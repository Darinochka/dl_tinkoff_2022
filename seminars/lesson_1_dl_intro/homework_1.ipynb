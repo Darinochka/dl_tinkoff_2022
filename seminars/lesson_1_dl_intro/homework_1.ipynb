{
 "cells": [
  {
   "cell_type": "markdown",
   "metadata": {},
   "source": [
    "# Домашнее задание\n",
    "\n",
    "* Получить точность 97.5% на валидации MNIST.\n",
    "* Реализовать морфинг автоэнкодером (без формальных критериев — просто получите красивую гифку).\n",
    "* Визуализировать MNIST автоэнкодером (обучить автоэнкодер с латентным пространством размерности 2 и вывести через scatter точки разного цвета)."
   ]
  },
  {
   "cell_type": "markdown",
   "metadata": {},
   "source": [
    "### MNIST"
   ]
  },
  {
   "cell_type": "code",
   "execution_count": 93,
   "metadata": {},
   "outputs": [
    {
     "data": {
      "text/plain": [
       "<torch._C.Generator at 0x1b117b8f670>"
      ]
     },
     "execution_count": 93,
     "metadata": {},
     "output_type": "execute_result"
    }
   ],
   "source": [
    "import torch\n",
    "import torch.nn as nn\n",
    "import torch.nn.functional as F\n",
    "from torchvision import datasets, transforms\n",
    "import numpy as np\n",
    "\n",
    "import matplotlib.pyplot as plt\n",
    "%matplotlib inline\n",
    "\n",
    "torch.manual_seed(42)"
   ]
  },
  {
   "cell_type": "code",
   "execution_count": 31,
   "metadata": {},
   "outputs": [],
   "source": [
    "def get_loader(train, batch_size):\n",
    "    '''Cкачает мнист и сохранит где-то рядом.'''\n",
    "    \n",
    "    # Dataset в PyTorch -- это какой-то объект, который оборачивает сырые данные и делает с ними какой-нибудь препроцессинг\n",
    "    dataset = datasets.MNIST('mnist', train=train, download=True,\n",
    "        transform=transforms.ToTensor())\n",
    "    \n",
    "    # DataLoader делает из датасета генератор, который возвращает данные, сгруппированные по батчам\n",
    "    loader = torch.utils.data.DataLoader(dataset, batch_size=batch_size, shuffle=True)\n",
    "    \n",
    "    return loader\n",
    "    \n",
    "train = get_loader(True, 64)\n",
    "val = get_loader(False, 64)"
   ]
  },
  {
   "cell_type": "code",
   "execution_count": 32,
   "metadata": {},
   "outputs": [],
   "source": [
    "def accuracy(model, val):\n",
    "    total = 0\n",
    "    correct = 0\n",
    "    for X, y in val:\n",
    "        res = model(X)\n",
    "        res = res.argmax(dim=1)\n",
    "        total += res.shape[0]\n",
    "        correct += (res == y).sum().item()\n",
    "    return correct / total"
   ]
  },
  {
   "cell_type": "code",
   "execution_count": 141,
   "metadata": {},
   "outputs": [],
   "source": [
    "model = nn.Sequential(\n",
    "    nn.Conv2d(in_channels=1, out_channels=32, kernel_size=(3, 3)),\n",
    "    nn.MaxPool2d(kernel_size=2, stride=2),\n",
    "    nn.ReLU(),\n",
    "    nn.Dropout(0.3),\n",
    "    nn.Flatten(),\n",
    "    nn.Linear(32*13*13, 10),\n",
    "    nn.LogSoftmax(dim=1)\n",
    ")"
   ]
  },
  {
   "cell_type": "code",
   "execution_count": 142,
   "metadata": {},
   "outputs": [],
   "source": [
    "optimizer = torch.optim.Adam(model.parameters(), lr=1e-2)\n",
    "criterion = nn.NLLLoss()"
   ]
  },
  {
   "cell_type": "code",
   "execution_count": 143,
   "metadata": {},
   "outputs": [
    {
     "name": "stdout",
     "output_type": "stream",
     "text": [
      "train: 0.9762 test: 0.9728\n",
      "train: 0.98005 test: 0.9739\n",
      "train: 0.9830166666666666 test: 0.978\n",
      "train: 0.9827 test: 0.9763\n",
      "train: 0.9834 test: 0.9747\n",
      "train: 0.9866666666666667 test: 0.9777\n",
      "train: 0.98845 test: 0.9773\n",
      "train: 0.98265 test: 0.9724\n",
      "train: 0.9844166666666667 test: 0.9749\n",
      "train: 0.98695 test: 0.9748\n"
     ]
    }
   ],
   "source": [
    "train_losses = []\n",
    "epoch_accuracy = []\n",
    "for epoch in range(10):\n",
    "    for X, y in train:\n",
    "        optimizer.zero_grad()\n",
    "        \n",
    "        output = model(X)\n",
    "        loss = criterion(output, y)\n",
    "        loss.backward()\n",
    "        \n",
    "        train_losses.append(loss.item())\n",
    "        \n",
    "        optimizer.step()\n",
    "    acc_test = accuracy(model, val)\n",
    "    epoch_accuracy.append(acc_test)\n",
    "    print(f\"train: {accuracy(model, train)} test: {acc_test}\")"
   ]
  },
  {
   "cell_type": "code",
   "execution_count": 144,
   "metadata": {},
   "outputs": [
    {
     "name": "stdout",
     "output_type": "stream",
     "text": [
      "max accuracy: 0.978  mean accuracy: 0.97528\n"
     ]
    }
   ],
   "source": [
    "print(f\"max accuracy: {np.max(epoch_accuracy)}  mean accuracy: {np.mean(epoch_accuracy)}\")"
   ]
  },
  {
   "cell_type": "code",
   "execution_count": 145,
   "metadata": {},
   "outputs": [
    {
     "data": {
      "image/png": "[encoded data removed]",
      "text/plain": [
       "<Figure size 432x288 with 1 Axes>"
      ]
     },
     "metadata": {
      "needs_background": "light"
     },
     "output_type": "display_data"
    }
   ],
   "source": [
    "plt.plot(train_losses)\n",
    "plt.show()"
   ]
  },
  {
   "cell_type": "markdown",
   "metadata": {},
   "source": [
    "## Реализовать морфинг автоэнкодером \n",
    "без формальных критериев — просто получите красивую гифку."
   ]
  },
  {
   "cell_type": "code",
   "execution_count": 108,
   "metadata": {},
   "outputs": [],
   "source": [
    "from matplotlib import animation\n",
    "from matplotlib.animation import FuncAnimation\n",
    "from IPython.display import Video, display\n",
    "import ffmpy"
   ]
  },
  {
   "cell_type": "code",
   "execution_count": 109,
   "metadata": {},
   "outputs": [],
   "source": [
    "class Autoencoder(nn.Module):\n",
    "    def __init__(self):\n",
    "        super().__init__()\n",
    "        \n",
    "        self.encode = nn.Sequential(\n",
    "            nn.Linear(28 * 28, 100),\n",
    "            nn.ReLU(),\n",
    "            nn.Linear(100, 10),\n",
    "        )\n",
    "        \n",
    "        self.decode = nn.Sequential(\n",
    "            nn.Linear(10, 100),\n",
    "            nn.ReLU(),\n",
    "            nn.Linear(100, 28 * 28),\n",
    "            nn.Sigmoid()\n",
    "        )\n",
    "    \n",
    "    def forward(self, x):\n",
    "        return self.decode(self.encode(x))\n",
    "\n",
    "model = Autoencoder()\n",
    "criterion = torch.nn.MSELoss()\n",
    "optimizer = torch.optim.Adam(model.parameters())"
   ]
  },
  {
   "cell_type": "code",
   "execution_count": 112,
   "metadata": {},
   "outputs": [
    {
     "name": "stdout",
     "output_type": "stream",
     "text": [
      "epoch 0: loss 0.0415\n",
      "epoch 1: loss 0.0254\n",
      "epoch 2: loss 0.0231\n",
      "epoch 3: loss 0.0218\n",
      "epoch 4: loss 0.0210\n",
      "epoch 5: loss 0.0203\n",
      "epoch 6: loss 0.0198\n",
      "epoch 7: loss 0.0194\n",
      "epoch 8: loss 0.0191\n",
      "epoch 9: loss 0.0188\n"
     ]
    }
   ],
   "source": [
    "for epoch in range(10):\n",
    "    train_loss = 0\n",
    "    for data, _ in train:\n",
    "        data = data.view(-1, 784)\n",
    "        \n",
    "        optimizer.zero_grad()\n",
    "        \n",
    "        reconstructed = model(data)\n",
    "        loss = criterion(data, reconstructed)\n",
    "        \n",
    "        loss.backward()\n",
    "\n",
    "        train_loss += loss.item()\n",
    "        optimizer.step()\n",
    "\n",
    "    print('epoch %d: loss %.4f' % (epoch, train_loss / len(train)))"
   ]
  },
  {
   "cell_type": "code",
   "execution_count": 127,
   "metadata": {},
   "outputs": [],
   "source": [
    "def get(x):\n",
    "    return train.dataset[x][0].view(1, 784)\n",
    "\n",
    "def imshow(img):\n",
    "    pic = img.numpy().astype('float')\n",
    "    plt.axis('off')\n",
    "    return plt.imshow(pic, cmap='Greys', animated=True)\n",
    "\n",
    "def morph(inputs, steps, delay, file_name='plot_morph.mp4'):\n",
    "    latent = [model.encode(get(k)).data for k in inputs]\n",
    "    fig = plt.figure()\n",
    "    images = []\n",
    "    \n",
    "    for a, b in zip(latent, latent[1:] + [latent[0]]):\n",
    "        for t in numpy.linspace(0, 1, steps):\n",
    "            c = a * (1 - t) + b * t\n",
    "            morphed = model.decode(c).data\n",
    "            morphed = morphed.view(28, 28)\n",
    "            images.append([imshow(morphed)])\n",
    "\n",
    "    ani = animation.ArtistAnimation(fig, images, interval=delay)\n",
    "    FFwriter = animation.FFMpegWriter(fps=30)\n",
    "    ani.save(file_name, writer=FFwriter)\n",
    "    display(Video(file_name))"
   ]
  },
  {
   "cell_type": "code",
   "execution_count": 131,
   "metadata": {},
   "outputs": [
    {
     "data": {
      "text/html": [
       "<video src=\"plot_morph.mp4\" controls  >\n",
       "      Your browser does not support the <code>video</code> element.\n",
       "    </video>"
      ],
      "text/plain": [
       "<IPython.core.display.Video object>"
      ]
     },
     "metadata": {},
     "output_type": "display_data"
    },
    {
     "data": {
      "image/png": "[encoded data removed]",
      "text/plain": [
       "<Figure size 432x288 with 1 Axes>"
      ]
     },
     "metadata": {
      "needs_background": "light"
     },
     "output_type": "display_data"
    }
   ],
   "source": [
    "morph(np.random.randint(0, len(train.dataset), 30), 20, 30)"
   ]
  },
  {
   "cell_type": "markdown",
   "metadata": {},
   "source": [
    "## Визуализировать MNIST автоэнкодером \n",
    "(обучить автоэнкодер с латентным пространством размерности 2 и вывести через scatter точки разного цвета)."
   ]
  }
 ],
 "metadata": {
  "interpreter": {
   "hash": "919eb0904b72c37e8d6c7e3b2f7b6f162c89cafcc297fba09b2d10c79c52f5eb"
  },
  "kernelspec": {
   "display_name": "Python 3 (ipykernel)",
   "language": "python",
   "name": "python3"
  },
  "language_info": {
   "codemirror_mode": {
    "name": "ipython",
    "version": 3
   },
   "file_extension": ".py",
   "mimetype": "text/x-python",
   "name": "python",
   "nbconvert_exporter": "python",
   "pygments_lexer": "ipython3",
   "version": "3.8.12"
  },
  "widgets": {
   "application/vnd.jupyter.widget-state+json": {
    "state": {},
    "version_major": 2,
    "version_minor": 0
   }
  }
 },
 "nbformat": 4,
 "nbformat_minor": 4
}
